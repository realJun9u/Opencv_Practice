{
 "cells": [
  {
   "cell_type": "code",
   "execution_count": null,
   "id": "4062cc30-9f4f-4592-af93-0be3844f70c5",
   "metadata": {},
   "outputs": [],
   "source": [
    "# Image Contour\n",
    "# 이미지에서 Contour는 동일한 색 또는 동일한 강도를 가지는 영역의 경계선\n",
    "# 물체의 모형 분석이나 객체 감지, 인식 알고리즘에 사용\n",
    "# Binary 이미지를 사용하는게 정확도가 높아 Threshold 전처리 필요\n",
    "# cv2.drawContour()는 원본 이미지를 직접 수정.\n",
    "# opencv에서 Contour는 흰색을 찾으므로 배경을 검은색, 대상을 흰색으로 한다.\n",
    "# cv2.findContours(image, mode, method[, contours[, hierarchy[, offset]]]) → image, contours, hierarchy\n",
    "# image : 8-bit image, binary image\n",
    "# mode : contour를 찾는 방법\n",
    "# 1. \n",
    "# cv2.drawContours(image, contours, contourIdx, color[, thickness[, lineType[, hierarchy[, maxLevel[, offset]]]]]) → dst\n",
    "import cv2\n",
    "import numpy as np\n",
    "import matplotlib.pyplot as plt\n",
    "\n",
    "img = cv2.imread('square1.png')\n",
    "img_copy = img.copy()\n",
    "ret, img_thr = cv2.threshold(img_copy,128,255,cv2.THRESH_BINARY)\n",
    "\n",
    "contours, _ = cv2.findContours(thr,cv2.RETR_TREE"
   ]
  }
 ],
 "metadata": {
  "kernelspec": {
   "display_name": "Python 3 (ipykernel)",
   "language": "python",
   "name": "python3"
  },
  "language_info": {
   "codemirror_mode": {
    "name": "ipython",
    "version": 3
   },
   "file_extension": ".py",
   "mimetype": "text/x-python",
   "name": "python",
   "nbconvert_exporter": "python",
   "pygments_lexer": "ipython3",
   "version": "3.8.12"
  }
 },
 "nbformat": 4,
 "nbformat_minor": 5
}
