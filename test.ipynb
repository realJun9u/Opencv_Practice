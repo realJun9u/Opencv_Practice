{
 "cells": [
  {
   "cell_type": "code",
   "execution_count": 4,
   "metadata": {},
   "outputs": [
    {
     "ename": "error",
     "evalue": "OpenCV(4.5.5) D:\\a\\opencv-python\\opencv-python\\opencv\\modules\\dnn\\src\\caffe\\caffe_io.cpp:1126: error: (-2:Unspecified error) FAILED: fs.is_open(). Can't open \"deploy.prototxt.txt\" in function 'cv::dnn::ReadProtoFromTextFile'\n",
     "output_type": "error",
     "traceback": [
      "\u001b[1;31m---------------------------------------------------------------------------\u001b[0m",
      "\u001b[1;31merror\u001b[0m                                     Traceback (most recent call last)",
      "\u001b[1;32m<ipython-input-4-7187c69cbc4d>\u001b[0m in \u001b[0;36m<module>\u001b[1;34m\u001b[0m\n\u001b[0;32m     59\u001b[0m \u001b[0mh\u001b[0m\u001b[1;33m,\u001b[0m\u001b[0mw\u001b[0m\u001b[1;33m,\u001b[0m\u001b[0m_\u001b[0m \u001b[1;33m=\u001b[0m \u001b[0mimg_color\u001b[0m\u001b[1;33m.\u001b[0m\u001b[0mshape\u001b[0m\u001b[1;33m\u001b[0m\u001b[1;33m\u001b[0m\u001b[0m\n\u001b[0;32m     60\u001b[0m \u001b[0mimg_color\u001b[0m \u001b[1;33m=\u001b[0m \u001b[0mimg_color\u001b[0m\u001b[1;33m[\u001b[0m\u001b[0mh\u001b[0m\u001b[1;33m//\u001b[0m\u001b[1;36m2\u001b[0m\u001b[1;33m-\u001b[0m\u001b[0mint\u001b[0m\u001b[1;33m(\u001b[0m\u001b[1;33m(\u001b[0m\u001b[0mh\u001b[0m\u001b[1;33m*\u001b[0m\u001b[0mrh\u001b[0m\u001b[1;33m)\u001b[0m\u001b[1;33m//\u001b[0m\u001b[1;36m2\u001b[0m\u001b[1;33m)\u001b[0m\u001b[1;33m:\u001b[0m\u001b[0mh\u001b[0m\u001b[1;33m//\u001b[0m\u001b[1;36m2\u001b[0m\u001b[1;33m+\u001b[0m\u001b[0mint\u001b[0m\u001b[1;33m(\u001b[0m\u001b[1;33m(\u001b[0m\u001b[0mh\u001b[0m\u001b[1;33m*\u001b[0m\u001b[0mrh\u001b[0m\u001b[1;33m)\u001b[0m\u001b[1;33m//\u001b[0m\u001b[1;36m2\u001b[0m\u001b[1;33m)\u001b[0m\u001b[1;33m,\u001b[0m\u001b[0mw\u001b[0m\u001b[1;33m//\u001b[0m\u001b[1;36m2\u001b[0m\u001b[1;33m-\u001b[0m\u001b[0mint\u001b[0m\u001b[1;33m(\u001b[0m\u001b[1;33m(\u001b[0m\u001b[0mw\u001b[0m\u001b[1;33m*\u001b[0m\u001b[0mrw\u001b[0m\u001b[1;33m)\u001b[0m\u001b[1;33m//\u001b[0m\u001b[1;36m2\u001b[0m\u001b[1;33m)\u001b[0m\u001b[1;33m+\u001b[0m\u001b[1;36m15\u001b[0m\u001b[1;33m:\u001b[0m\u001b[0mw\u001b[0m\u001b[1;33m//\u001b[0m\u001b[1;36m2\u001b[0m\u001b[1;33m+\u001b[0m\u001b[0mint\u001b[0m\u001b[1;33m(\u001b[0m\u001b[1;33m(\u001b[0m\u001b[0mw\u001b[0m\u001b[1;33m*\u001b[0m\u001b[0mrw\u001b[0m\u001b[1;33m)\u001b[0m\u001b[1;33m//\u001b[0m\u001b[1;36m2\u001b[0m\u001b[1;33m)\u001b[0m\u001b[1;33m+\u001b[0m\u001b[1;36m15\u001b[0m\u001b[1;33m]\u001b[0m\u001b[1;33m\u001b[0m\u001b[1;33m\u001b[0m\u001b[0m\n\u001b[1;32m---> 61\u001b[1;33m \u001b[0mimg_color\u001b[0m\u001b[1;33m,\u001b[0m \u001b[0mmask\u001b[0m\u001b[1;33m,\u001b[0m \u001b[0mpoints\u001b[0m\u001b[1;33m=\u001b[0m \u001b[0mmakefacearea\u001b[0m\u001b[1;33m(\u001b[0m\u001b[0mimg_color\u001b[0m\u001b[1;33m)\u001b[0m\u001b[1;33m\u001b[0m\u001b[1;33m\u001b[0m\u001b[0m\n\u001b[0m\u001b[0;32m     62\u001b[0m \u001b[0mimg_color\u001b[0m \u001b[1;33m=\u001b[0m \u001b[0mcv2\u001b[0m\u001b[1;33m.\u001b[0m\u001b[0mresize\u001b[0m\u001b[1;33m(\u001b[0m\u001b[0mimg_color\u001b[0m\u001b[1;33m,\u001b[0m\u001b[1;33m(\u001b[0m\u001b[1;36m320\u001b[0m\u001b[1;33m,\u001b[0m\u001b[1;36m240\u001b[0m\u001b[1;33m)\u001b[0m\u001b[1;33m)\u001b[0m\u001b[1;33m\u001b[0m\u001b[1;33m\u001b[0m\u001b[0m\n\u001b[0;32m     63\u001b[0m \u001b[0mmask\u001b[0m \u001b[1;33m=\u001b[0m \u001b[0mcv2\u001b[0m\u001b[1;33m.\u001b[0m\u001b[0mresize\u001b[0m\u001b[1;33m(\u001b[0m\u001b[0mmask\u001b[0m\u001b[1;33m,\u001b[0m\u001b[1;33m(\u001b[0m\u001b[1;36m320\u001b[0m\u001b[1;33m,\u001b[0m\u001b[1;36m240\u001b[0m\u001b[1;33m)\u001b[0m\u001b[1;33m)\u001b[0m\u001b[1;33m\u001b[0m\u001b[1;33m\u001b[0m\u001b[0m\n",
      "\u001b[1;32m<ipython-input-4-7187c69cbc4d>\u001b[0m in \u001b[0;36mmakefacearea\u001b[1;34m(image)\u001b[0m\n\u001b[0;32m     17\u001b[0m \u001b[1;33m\u001b[0m\u001b[0m\n\u001b[0;32m     18\u001b[0m \u001b[1;32mdef\u001b[0m \u001b[0mmakefacearea\u001b[0m\u001b[1;33m(\u001b[0m\u001b[0mimage\u001b[0m\u001b[1;33m)\u001b[0m\u001b[1;33m:\u001b[0m\u001b[1;33m\u001b[0m\u001b[1;33m\u001b[0m\u001b[0m\n\u001b[1;32m---> 19\u001b[1;33m     \u001b[0mdetector\u001b[0m \u001b[1;33m=\u001b[0m \u001b[0mcv2\u001b[0m\u001b[1;33m.\u001b[0m\u001b[0mdnn\u001b[0m\u001b[1;33m.\u001b[0m\u001b[0mreadNetFromCaffe\u001b[0m\u001b[1;33m(\u001b[0m\u001b[1;34m\"deploy.prototxt.txt\"\u001b[0m\u001b[1;33m,\u001b[0m \u001b[1;34m\"res10_300x300_ssd_iter_140000.caffemodel\"\u001b[0m\u001b[1;33m)\u001b[0m\u001b[1;33m\u001b[0m\u001b[1;33m\u001b[0m\u001b[0m\n\u001b[0m\u001b[0;32m     20\u001b[0m     \u001b[0mbase_img\u001b[0m \u001b[1;33m=\u001b[0m \u001b[0mimage\u001b[0m\u001b[1;33m.\u001b[0m\u001b[0mcopy\u001b[0m\u001b[1;33m(\u001b[0m\u001b[1;33m)\u001b[0m\u001b[1;33m\u001b[0m\u001b[1;33m\u001b[0m\u001b[0m\n\u001b[0;32m     21\u001b[0m     \u001b[0moriginal_size\u001b[0m \u001b[1;33m=\u001b[0m \u001b[0mimage\u001b[0m\u001b[1;33m.\u001b[0m\u001b[0mshape\u001b[0m\u001b[1;33m\u001b[0m\u001b[1;33m\u001b[0m\u001b[0m\n",
      "\u001b[1;31merror\u001b[0m: OpenCV(4.5.5) D:\\a\\opencv-python\\opencv-python\\opencv\\modules\\dnn\\src\\caffe\\caffe_io.cpp:1126: error: (-2:Unspecified error) FAILED: fs.is_open(). Can't open \"deploy.prototxt.txt\" in function 'cv::dnn::ReadProtoFromTextFile'\n"
     ]
    }
   ],
   "source": [
    "# \n",
    "# Face Detection 코드 출처 : https://github.com/serengil/tensorflow-101/blob/master/python/opencv-dnn-face-detection.ipynb\n",
    "# 45 * 34\n",
    "# 55 * 43\n",
    "import cv2\n",
    "import numpy as np\n",
    "import pandas as pd\n",
    "from cvzone.SelfiSegmentationModule import SelfiSegmentation\n",
    "# calculate temperature function\n",
    "def max_mean(img_gray,points,minval,maxval):\n",
    "    for i in range(len(points)):\n",
    "        roi = img_gray[points[i][0]:points[i][1],points[i][2]:points[i][3]]\n",
    "        print(roi.shape)\n",
    "        # convert color to temperature\n",
    "        roi= np.round(roi * (maxval-minval)/255 + minval,1)\n",
    "    print(np.max(roi),np.mean(roi))\n",
    "\n",
    "def makefacearea(image):\n",
    "    detector = cv2.dnn.readNetFromCaffe(\"deploy.prototxt.txt\", \"res10_300x300_ssd_iter_140000.caffemodel\")\n",
    "    base_img = image.copy()\n",
    "    original_size = image.shape\n",
    "    target_size = (300, 300)\n",
    "    image = cv2.resize(image, target_size)\n",
    "    aspect_ratio_x = (original_size[1] / target_size[1])\n",
    "    aspect_ratio_y = (original_size[0] / target_size[0])\n",
    "    imageBlob = cv2.dnn.blobFromImage(image = image)\n",
    "    detector.setInput(imageBlob)\n",
    "    detections = detector.forward()\n",
    "    detections_df = pd.DataFrame(detections[0][0]\n",
    "        , columns = [\"img_id\", \"is_face\", \"confidence\", \"left\", \"top\", \"right\", \"bottom\"])\n",
    "    detections_df = detections_df[detections_df['is_face'] == 1] #0: background, 1: face\n",
    "    detections_df = detections_df[detections_df['confidence'] >= 0.90]\n",
    "    mask = np.full(original_size[:2],0,np.uint8)\n",
    "    points=[]\n",
    "    for _, instance in detections_df.iterrows():\n",
    "        left = int(instance[\"left\"] * 300 * aspect_ratio_x)\n",
    "        bottom = int(instance[\"bottom\"] * 300 * aspect_ratio_y)\n",
    "        right = int(instance[\"right\"] * 300 * aspect_ratio_x)\n",
    "        top = int(instance[\"top\"] * 300 * aspect_ratio_y)\n",
    "        points.append((top,bottom,left,right))\n",
    "        cv2.rectangle(mask, (left,top),(right,bottom), (255, 255, 255), -1)\n",
    "        cv2.rectangle(base_img, (left,top),(right,bottom), (255, 255, 255), 1)\n",
    "    # cv2.imshow('Original',base_img)\n",
    "    # cv2.imshow('Mask',mask)\n",
    "    # cv2.waitKey(0)\n",
    "    # cv2.destroyAllWindows()\n",
    "    return base_img, mask, points\n",
    "\n",
    "# image read\n",
    "img_thermal_gray = cv2.imread('FLIR0064.jpg',cv2.IMREAD_GRAYSCALE)\n",
    "#for line in img_thermal_gray:\n",
    "#    print ('  '.join(map(str, img_thermal_gray)))\n",
    "img_color = cv2.imread('FLIR0065.jpg')\n",
    "minval = 18.8\n",
    "maxval = 35.5\n",
    "# resize color image\n",
    "rh = 34/43 * 0.9\n",
    "rw = 45/55 * 0.9\n",
    "h,w,_ = img_color.shape\n",
    "img_color = img_color[h//2-int((h*rh)//2):h//2+int((h*rh)//2),w//2-int((w*rw)//2)+15:w//2+int((w*rw)//2)+15]\n",
    "img_color, mask, points= makefacearea(img_color)\n",
    "img_color = cv2.resize(img_color,(320,240))\n",
    "mask = cv2.resize(mask,(320,240))\n",
    "img_fg = cv2.bitwise_and(img_thermal_gray,img_thermal_gray,mask=mask)\n",
    "# thresholding thermal image\n",
    "_, mask_thresh = cv2.threshold(img_fg,254,255,cv2.THRESH_BINARY)\n",
    "img_thresh = cv2.bitwise_and(img_fg,img_fg,mask=mask_thresh)\n",
    "max_mean(img_thermal_gray,points,minval,maxval)\n",
    "# max_mean(img_thermal_gray,[(0,240,0,320)],minval,maxval)\n",
    "cv2.imshow(\"Thermal Gray\", img_thermal_gray)\n",
    "cv2.imshow(\"Color\", img_color)\n",
    "cv2.imshow(\"face\",img_fg)\n",
    "cv2.imshow(\"Thresh\",img_thresh)\n",
    "cv2.waitKey(0)\n",
    "cv2.destroyAllWindows()"
   ]
  },
  {
   "cell_type": "code",
   "execution_count": 16,
   "metadata": {},
   "outputs": [
    {
     "name": "stdout",
     "output_type": "stream",
     "text": [
      "(240, 320, 3)\n",
      "(240, 320)\n",
      "(20, 35)\n",
      "(20, 35)\n",
      "18.8\n",
      "\n",
      "35.5\n",
      "\n"
     ]
    },
    {
     "data": {
      "image/png": "[encoded data removed]",
      "text/plain": [
       "<Figure size 432x288 with 2 Axes>"
      ]
     },
     "metadata": {
      "needs_background": "light"
     },
     "output_type": "display_data"
    }
   ],
   "source": [
    "# 참고 https://ansan-survivor.tistory.com/313\n",
    "\n",
    "import cv2\n",
    "import os\n",
    "import pytesseract\n",
    "from PIL import Image\n",
    "import matplotlib.pyplot as plt\n",
    "\n",
    "# tesseract install path\n",
    "#pytesseract.pytesseract.tesseract_cmd = r'C:\\Program Files\\Tesseract-OCR\\tesseract'\n",
    "\n",
    "img = cv2.imread('FLIR0064.jpg')\n",
    "print(img.shape)\n",
    "gray = cv2.cvtColor(img, cv2.COLOR_BGR2GRAY)\n",
    "print(gray.shape)\n",
    "min_img = gray[215:235,280:315]\n",
    "print(min_img.shape)\n",
    "max_img = gray[5:25,280:315]\n",
    "print(max_img.shape)\n",
    "\n",
    "# min \n",
    "filename =\"{}.png\".format(os.getpid())\n",
    "cv2.imwrite(filename, min_img)\n",
    "min = pytesseract.image_to_string(Image.open(filename), lang=None)\n",
    "os.remove(filename)\n",
    "print(min)\n",
    "\n",
    "# max\n",
    "filename =\"{}.png\".format(os.getpid())\n",
    "cv2.imwrite(filename, max_img)\n",
    "max = pytesseract.image_to_string(Image.open(filename), lang=None)\n",
    "os.remove(filename)\n",
    "print(max)\n",
    "\n",
    "plt.subplot(1,2,1)\n",
    "plt.imshow(min_img, cmap=\"gray\")\n",
    "plt.title('min')\n",
    "plt.axis('off')\n",
    "\n",
    "plt.subplot(1,2,2)\n",
    "plt.imshow(max_img, cmap=\"gray\")\n",
    "plt.title('max')\n",
    "plt.axis('off')\n",
    "plt.show()\n",
    "\n",
    "#cv2.imshow('imag',gray)\n",
    "#cv2.waitKey(0)\n",
    "#cv2.destroyAllWindows()"
   ]
  },
  {
   "cell_type": "code",
   "execution_count": null,
   "metadata": {},
   "outputs": [],
   "source": []
  }
 ],
 "metadata": {
  "interpreter": {
   "hash": "9fee8c4afae023adf443dfff30904703eace69a3ebcdecb526a72e3a462d4bde"
  },
  "kernelspec": {
   "display_name": "Python 3",
   "language": "python",
   "name": "python3"
  },
  "language_info": {
   "codemirror_mode": {
    "name": "ipython",
    "version": 3
   },
   "file_extension": ".py",
   "mimetype": "text/x-python",
   "name": "python",
   "nbconvert_exporter": "python",
   "pygments_lexer": "ipython3",
   "version": "3.8.8"
  }
 },
 "nbformat": 4,
 "nbformat_minor": 2
}
